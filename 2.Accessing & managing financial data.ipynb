{
 "cells": [
  {
   "cell_type": "markdown",
   "metadata": {},
   "source": [
    "# Accessing & managing financial data"
   ]
  },
  {
   "cell_type": "markdown",
   "metadata": {},
   "source": [
    "## Fama-French data"
   ]
  },
  {
   "cell_type": "markdown",
   "metadata": {},
   "source": [
    "We start by downloading some famous Fama-French factors [Fama1993](https://doi.org/2329112.) and portfolio returns commonly used in empirical asset pricing. Fortunately, there is a neat package by [Nelson Areal](https://github.com/nareal/frenchdata/) that allows us to easily access the data"
   ]
  },
  {
   "cell_type": "markdown",
   "metadata": {},
   "source": [
    "We can use the main function of the package to download monthly Fama-French factors. The set *3 Factors* includes the return time series of the market, size, and value factors alongside the risk-free rates. Note that we have to do some manual work to correctly parse all the columns and scale them appropriately as the raw Fama-French data comes in very unpractical data format. For precise descriptions of the variables, we suggest consulting [Prof. Kenneth French finance data library](https://mba.tuck.dartmouth.edu/pages/faculty/ken.french/data_library.html) directly."
   ]
  },
  {
   "cell_type": "code",
   "execution_count": 14,
   "metadata": {},
   "outputs": [],
   "source": [
    "import pandas as pd\n",
    "factors_ff_monthly_raw=pd.read_csv('D:/Tidy/factors_ff_monthly_raw.csv')\n",
    "startdate = pd.to_datetime('1960-01-01')\n",
    "enddate = pd.to_datetime('2020-12-31')"
   ]
  },
  {
   "cell_type": "code",
   "execution_count": 15,
   "metadata": {},
   "outputs": [],
   "source": [
    "factors_ff_monthly_raw['month']=pd.to_datetime(factors_ff_monthly_raw['date'], format='%Y%m')"
   ]
  },
  {
   "cell_type": "code",
   "execution_count": 18,
   "metadata": {},
   "outputs": [],
   "source": [
    "factors_ff_monthly=pd.DataFrame({'month':factors_ff_monthly_raw['month'],\n",
    "                                 'rf':factors_ff_monthly_raw['RF']/100,\n",
    "                                 'mkt_excess':factors_ff_monthly_raw['Mkt-RF']/100,\n",
    "                                 'smb':factors_ff_monthly_raw['SMB']/100,\n",
    "                                 'hml':factors_ff_monthly_raw['HML']/100,          })\n",
    "factors_ff_monthly = factors_ff_monthly.loc[(factors_ff_monthly.month >= startdate) & (factors_ff_monthly.month <= enddate)].reset_index(drop = True)"
   ]
  },
  {
   "cell_type": "markdown",
   "metadata": {},
   "source": [
    "It is straightforward to download the corresponding *daily* Fama-French factors with the same function. "
   ]
  },
  {
   "cell_type": "code",
   "execution_count": 26,
   "metadata": {},
   "outputs": [],
   "source": [
    "factors_ff_daily_raw=pd.read_csv('D:/Tidy/factors_ff_daily_raw.csv')\n",
    "factors_ff_daily_raw['date']=pd.to_datetime(factors_ff_daily_raw['date'], format='%Y%m%d')"
   ]
  },
  {
   "cell_type": "code",
   "execution_count": 27,
   "metadata": {},
   "outputs": [],
   "source": [
    "factors_ff_daily=pd.DataFrame({'date':factors_ff_daily_raw['date'],\n",
    "                                 'rf':factors_ff_daily_raw['RF']/100,\n",
    "                                 'mkt_excess':factors_ff_daily_raw['Mkt-RF']/100,\n",
    "                                 'smb':factors_ff_daily_raw['SMB']/100,\n",
    "                                 'hml':factors_ff_daily_raw['HML']/100,          })\n",
    "factors_ff_daily = factors_ff_daily.loc[(factors_ff_daily.date >= startdate) & (factors_ff_daily.date <= enddate)].reset_index(drop = True)"
   ]
  },
  {
   "cell_type": "markdown",
   "metadata": {},
   "source": [
    "In a subsequent chapter, we also use the 10 monthly industry portfolios, so let us fetch that data, too. "
   ]
  },
  {
   "cell_type": "code",
   "execution_count": 39,
   "metadata": {},
   "outputs": [],
   "source": [
    "industries_ff_monthly_raw=pd.read_csv('D:/Tidy/industries_ff_monthly_raw.csv')\n",
    "industries_ff_monthly_raw['month']=pd.to_datetime(factors_ff_monthly_raw['date'], format='%Y%m')"
   ]
  },
  {
   "cell_type": "code",
   "execution_count": 41,
   "metadata": {},
   "outputs": [],
   "source": [
    "industries_ff_monthly=industries_ff_monthly_raw.loc[:,'NoDur':'Other']/100\n",
    "industries_ff_monthly['month']=industries_ff_monthly_raw['month']\n",
    "industries_ff_monthly = industries_ff_monthly.loc[(industries_ff_monthly.month >= startdate) & (industries_ff_monthly.month <= enddate)].reset_index(drop = True)"
   ]
  },
  {
   "cell_type": "markdown",
   "metadata": {},
   "source": [
    "## q-factors"
   ]
  },
  {
   "cell_type": "markdown",
   "metadata": {},
   "source": [
    "In recent years, the academic discourse experienced the rise of alternative factor models, e.g., in the form of the [Hou2015](https://doi.org/10.1093/rfs/hhu068) *q*-factor model. We refer to the [extended background](http://global-q.org/background.html) information provided by the original authors for further information. The *q* factors can be downloaded directly from the authors' homepage from within `read_csv()`.\n",
    "\n",
    "We also need to adjust this data. First, we discard information we will not use here. Then, we rename the columns with the \"R_\"-prescript using regular expressions and write all column names in lower case."
   ]
  },
  {
   "cell_type": "code",
   "execution_count": 45,
   "metadata": {},
   "outputs": [],
   "source": [
    "factors_q_monthly_raw=pd.read_csv(\"http://global-q.org/uploads/1/2/2/6/122679606/q5_factors_monthly_2020.csv\")"
   ]
  },
  {
   "cell_type": "code",
   "execution_count": 49,
   "metadata": {},
   "outputs": [
    {
     "data": {
      "text/html": [
       "<div>\n",
       "<style scoped>\n",
       "    .dataframe tbody tr th:only-of-type {\n",
       "        vertical-align: middle;\n",
       "    }\n",
       "\n",
       "    .dataframe tbody tr th {\n",
       "        vertical-align: top;\n",
       "    }\n",
       "\n",
       "    .dataframe thead th {\n",
       "        text-align: right;\n",
       "    }\n",
       "</style>\n",
       "<table border=\"1\" class=\"dataframe\">\n",
       "  <thead>\n",
       "    <tr style=\"text-align: right;\">\n",
       "      <th></th>\n",
       "      <th>year</th>\n",
       "      <th>month</th>\n",
       "      <th>R_F</th>\n",
       "      <th>R_MKT</th>\n",
       "      <th>R_ME</th>\n",
       "      <th>R_IA</th>\n",
       "      <th>R_ROE</th>\n",
       "      <th>R_EG</th>\n",
       "    </tr>\n",
       "  </thead>\n",
       "  <tbody>\n",
       "    <tr>\n",
       "      <th>0</th>\n",
       "      <td>1967</td>\n",
       "      <td>1</td>\n",
       "      <td>0.3927</td>\n",
       "      <td>8.1852</td>\n",
       "      <td>6.7630</td>\n",
       "      <td>-3.0018</td>\n",
       "      <td>1.9603</td>\n",
       "      <td>-2.2396</td>\n",
       "    </tr>\n",
       "    <tr>\n",
       "      <th>1</th>\n",
       "      <td>1967</td>\n",
       "      <td>2</td>\n",
       "      <td>0.3743</td>\n",
       "      <td>0.7557</td>\n",
       "      <td>1.7323</td>\n",
       "      <td>-0.2696</td>\n",
       "      <td>3.5877</td>\n",
       "      <td>2.5681</td>\n",
       "    </tr>\n",
       "    <tr>\n",
       "      <th>2</th>\n",
       "      <td>1967</td>\n",
       "      <td>3</td>\n",
       "      <td>0.3693</td>\n",
       "      <td>4.0169</td>\n",
       "      <td>1.9541</td>\n",
       "      <td>-1.6969</td>\n",
       "      <td>1.8805</td>\n",
       "      <td>-1.4695</td>\n",
       "    </tr>\n",
       "    <tr>\n",
       "      <th>3</th>\n",
       "      <td>1967</td>\n",
       "      <td>4</td>\n",
       "      <td>0.3344</td>\n",
       "      <td>3.8786</td>\n",
       "      <td>-0.7423</td>\n",
       "      <td>-2.9555</td>\n",
       "      <td>1.0983</td>\n",
       "      <td>-2.2351</td>\n",
       "    </tr>\n",
       "    <tr>\n",
       "      <th>4</th>\n",
       "      <td>1967</td>\n",
       "      <td>5</td>\n",
       "      <td>0.3126</td>\n",
       "      <td>-4.2807</td>\n",
       "      <td>2.9255</td>\n",
       "      <td>2.4553</td>\n",
       "      <td>0.5435</td>\n",
       "      <td>0.2749</td>\n",
       "    </tr>\n",
       "    <tr>\n",
       "      <th>...</th>\n",
       "      <td>...</td>\n",
       "      <td>...</td>\n",
       "      <td>...</td>\n",
       "      <td>...</td>\n",
       "      <td>...</td>\n",
       "      <td>...</td>\n",
       "      <td>...</td>\n",
       "      <td>...</td>\n",
       "    </tr>\n",
       "    <tr>\n",
       "      <th>643</th>\n",
       "      <td>2020</td>\n",
       "      <td>8</td>\n",
       "      <td>0.0079</td>\n",
       "      <td>7.6270</td>\n",
       "      <td>-2.3063</td>\n",
       "      <td>-2.8534</td>\n",
       "      <td>-0.8682</td>\n",
       "      <td>-1.6505</td>\n",
       "    </tr>\n",
       "    <tr>\n",
       "      <th>644</th>\n",
       "      <td>2020</td>\n",
       "      <td>9</td>\n",
       "      <td>0.0076</td>\n",
       "      <td>-3.6271</td>\n",
       "      <td>0.3254</td>\n",
       "      <td>-2.1992</td>\n",
       "      <td>1.2255</td>\n",
       "      <td>0.6656</td>\n",
       "    </tr>\n",
       "    <tr>\n",
       "      <th>645</th>\n",
       "      <td>2020</td>\n",
       "      <td>10</td>\n",
       "      <td>0.0073</td>\n",
       "      <td>-2.1009</td>\n",
       "      <td>2.7930</td>\n",
       "      <td>-0.7387</td>\n",
       "      <td>-2.4671</td>\n",
       "      <td>-0.8514</td>\n",
       "    </tr>\n",
       "    <tr>\n",
       "      <th>646</th>\n",
       "      <td>2020</td>\n",
       "      <td>11</td>\n",
       "      <td>0.0066</td>\n",
       "      <td>12.4689</td>\n",
       "      <td>4.3248</td>\n",
       "      <td>3.0672</td>\n",
       "      <td>-14.4600</td>\n",
       "      <td>-9.7226</td>\n",
       "    </tr>\n",
       "    <tr>\n",
       "      <th>647</th>\n",
       "      <td>2020</td>\n",
       "      <td>12</td>\n",
       "      <td>0.0060</td>\n",
       "      <td>4.6311</td>\n",
       "      <td>4.3816</td>\n",
       "      <td>-2.7001</td>\n",
       "      <td>-3.5415</td>\n",
       "      <td>-0.8961</td>\n",
       "    </tr>\n",
       "  </tbody>\n",
       "</table>\n",
       "<p>648 rows × 8 columns</p>\n",
       "</div>"
      ],
      "text/plain": [
       "     year  month     R_F    R_MKT    R_ME    R_IA    R_ROE    R_EG\n",
       "0    1967      1  0.3927   8.1852  6.7630 -3.0018   1.9603 -2.2396\n",
       "1    1967      2  0.3743   0.7557  1.7323 -0.2696   3.5877  2.5681\n",
       "2    1967      3  0.3693   4.0169  1.9541 -1.6969   1.8805 -1.4695\n",
       "3    1967      4  0.3344   3.8786 -0.7423 -2.9555   1.0983 -2.2351\n",
       "4    1967      5  0.3126  -4.2807  2.9255  2.4553   0.5435  0.2749\n",
       "..    ...    ...     ...      ...     ...     ...      ...     ...\n",
       "643  2020      8  0.0079   7.6270 -2.3063 -2.8534  -0.8682 -1.6505\n",
       "644  2020      9  0.0076  -3.6271  0.3254 -2.1992   1.2255  0.6656\n",
       "645  2020     10  0.0073  -2.1009  2.7930 -0.7387  -2.4671 -0.8514\n",
       "646  2020     11  0.0066  12.4689  4.3248  3.0672 -14.4600 -9.7226\n",
       "647  2020     12  0.0060   4.6311  4.3816 -2.7001  -3.5415 -0.8961\n",
       "\n",
       "[648 rows x 8 columns]"
      ]
     },
     "execution_count": 49,
     "metadata": {},
     "output_type": "execute_result"
    }
   ],
   "source": [
    "from datetime import datetime\n",
    "factors_q_monthly_raw"
   ]
  },
  {
   "cell_type": "code",
   "execution_count": 56,
   "metadata": {},
   "outputs": [],
   "source": [
    "factors_q_monthly_raw['month']=factors_q_monthly_raw.apply(lambda x: datetime(int(x.year),int(x.month),1),axis=1)"
   ]
  },
  {
   "cell_type": "code",
   "execution_count": 60,
   "metadata": {},
   "outputs": [],
   "source": [
    "factors_q_monthly=factors_q_monthly_raw.loc[:,'R_ME':'R_EG']/100\n",
    "factors_q_monthly['month']=factors_q_monthly_raw['month']\n",
    "factors_q_monthly=factors_q_monthly.rename(columns={'R_ME':'me',\n",
    "                                                    'R_IA':'ia',\n",
    "                                                    'R_ROE':'roe',\t\n",
    "                                                    'R_EG':'eg'})\n",
    "factors_q_monthly = factors_q_monthly.loc[(factors_q_monthly.month >= startdate) & (factors_q_monthly.month <= enddate)].reset_index(drop = True)"
   ]
  },
  {
   "cell_type": "markdown",
   "metadata": {},
   "source": [
    "## Macroeconomic predictors"
   ]
  },
  {
   "cell_type": "markdown",
   "metadata": {},
   "source": [
    "Our next data source is a set of macroeconomic variables often used as predictors for the equity premium. [Goyal2008](https://doi.org/10.1093/rfs/hhm014) comprehensively reexamine the performance of variables suggested by the academic literature to be good predictors of the equity premium. The authors host the data updated to 2020 on [Amit Goyal's website](https://sites.google.com/view/agoyal145). Since the data is a .xlsx-file stored on a public Google drive location, we need additional packages to access the data directly from our R session. Therefore, we load `read_excel()` to read the .xlsx-file."
   ]
  },
  {
   "cell_type": "code",
   "execution_count": 72,
   "metadata": {},
   "outputs": [
    {
     "name": "stderr",
     "output_type": "stream",
     "text": [
      "d:\\Users\\81913\\Anaconda3\\lib\\site-packages\\openpyxl\\worksheet\\header_footer.py:48: UserWarning: Cannot parse header or footer so it will be ignored\n",
      "  warn(\"\"\"Cannot parse header or footer so it will be ignored\"\"\")\n"
     ]
    }
   ],
   "source": [
    "macro_predictors_raw = pd.read_excel(\"D:/Tidy/PredictorData2020.xlsx\")"
   ]
  },
  {
   "cell_type": "code",
   "execution_count": 73,
   "metadata": {},
   "outputs": [],
   "source": [
    "macro_predictors_raw['month']=pd.to_datetime(macro_predictors_raw ['yyyymm'], format='%Y%m')\n",
    "macro_predictors_raw  = macro_predictors_raw .loc[(macro_predictors_raw .month >= startdate) & (macro_predictors_raw .month <= enddate)].reset_index(drop = True)"
   ]
  },
  {
   "cell_type": "code",
   "execution_count": 83,
   "metadata": {},
   "outputs": [],
   "source": [
    "import numpy as np\n",
    "macro_predictors_raw['IndexDiv']=macro_predictors_raw['Index'] +macro_predictors_raw['D12']\n",
    "macro_predictors_raw['logret']=np.log(macro_predictors_raw['IndexDiv']) -np.log(macro_predictors_raw['IndexDiv'].shift(1))\n",
    "macro_predictors_raw['Rfree']=np.log(macro_predictors_raw['Rfree'] + 1)\n",
    "macro_predictors_raw['rp_div']=(macro_predictors_raw['logret'] - macro_predictors_raw['Rfree']).shift(-1)\n",
    "macro_predictors_raw['dp']=np.log(macro_predictors_raw['D12'])-np.log(macro_predictors_raw['Index'])\n",
    "macro_predictors_raw['dy']=np.log(macro_predictors_raw['D12'])-np.log(macro_predictors_raw['Index'].shift(1))\n",
    "macro_predictors_raw['ep']=np.log(macro_predictors_raw['E12'])-np.log(macro_predictors_raw['Index'])\n",
    "macro_predictors_raw['de']=np.log(macro_predictors_raw['D12'])-np.log(macro_predictors_raw['E12'])\n",
    "macro_predictors_raw['tms']=macro_predictors_raw['lty']-macro_predictors_raw['tbl']\n",
    "macro_predictors_raw['dfy']=macro_predictors_raw['BAA']-macro_predictors_raw['AAA']"
   ]
  },
  {
   "cell_type": "code",
   "execution_count": 88,
   "metadata": {},
   "outputs": [],
   "source": [
    "macro_predictors=macro_predictors_raw[['month','rp_div', 'dp', 'dy', 'ep', 'de', 'svar',\n",
    "         'b/m', 'ntis', 'tbl', 'lty', 'ltr',\n",
    "         'tms', 'dfy', 'infl']]\n",
    "macro_predictors=macro_predictors.rename(columns={'b/m':'bm'})\n",
    "macro_predictors=macro_predictors.dropna()"
   ]
  },
  {
   "cell_type": "markdown",
   "metadata": {},
   "source": [
    "Finally, after reading in the macro predictors to our memory, we remove the raw data file from our temporary storage. "
   ]
  },
  {
   "cell_type": "markdown",
   "metadata": {},
   "source": [
    "## Other macroeconomic data"
   ]
  },
  {
   "cell_type": "markdown",
   "metadata": {},
   "source": [
    "The Federal Reserve bank of St. Louis provides the Federal Reserve Economic Data (FRED), an extensive database for macroeconomic data. In total, there are 817,000 US and international time series from 108 different sources. As an illustration, we use the already familiar `pandas` package to fetch consumer price index (CPI) data that can be found under the [CPIAUCNS](https://fred.stlouisfed.org/series/CPIAUCNS) key. "
   ]
  },
  {
   "cell_type": "code",
   "execution_count": 108,
   "metadata": {},
   "outputs": [],
   "source": [
    "cpi_monthly=pd.read_csv(\"D:/Tidy/cpi_monthly.csv\")"
   ]
  },
  {
   "cell_type": "code",
   "execution_count": 109,
   "metadata": {},
   "outputs": [],
   "source": [
    "cpi_monthly['month']=pd.to_datetime(cpi_monthly['date'])"
   ]
  },
  {
   "cell_type": "code",
   "execution_count": 110,
   "metadata": {},
   "outputs": [],
   "source": [
    "cpi_monthly['cpi']=cpi_monthly['price']/float(cpi_monthly.iloc[-1:,:]['price'].values)"
   ]
  },
  {
   "cell_type": "code",
   "execution_count": 112,
   "metadata": {},
   "outputs": [],
   "source": [
    "cpi_monthly=cpi_monthly.drop(['symbol','date','price','Unnamed: 0'],axis=1)"
   ]
  },
  {
   "cell_type": "markdown",
   "metadata": {},
   "source": [
    "## Setting up a database"
   ]
  },
  {
   "cell_type": "markdown",
   "metadata": {},
   "source": [
    "Now that we have downloaded some data from the web into the memory of our Python session, let us set up a database to store that information for future use. We will use the data stored in this database throughout the following chapters, but you could alternatively implement a different strategy and replace the respective code. \n",
    "\n",
    "There are many ways to set up and organize a database, depending on the use case. For our purpose, the most efficient way is to use an [SQLite](https://www.sqlite.org/index.html) database, which is the C-language library that implements a small, fast, self-contained, high-reliability, full-featured, SQL database engine. Note that [SQL](https://en.wikipedia.org/wiki/SQL) (Structured Query Language) is a standard language for accessing and manipulating databases. We refer to [this tutorial](https://www.w3schools.com/sql/sql_intro.asp) for more information on SQL. \n",
    "\n",
    "There are two packages that make working with SQLite in R very simple: `sqlite3` embeds the SQLite database engine in Python. These packages allow to set up a database to remotely store tables and use these remote database tables. Check out the [sqlite3](https://docs.python.org/3/library/sqlite3.html)."
   ]
  },
  {
   "cell_type": "code",
   "execution_count": 113,
   "metadata": {},
   "outputs": [],
   "source": [
    "import sqlite3\n",
    "tidy_finance = sqlite3.connect('D:/Tidy/tidyfinance.sqlite')"
   ]
  },
  {
   "cell_type": "code",
   "execution_count": 114,
   "metadata": {},
   "outputs": [],
   "source": [
    "factors_ff_monthly.to_sql('factors_ff_monthly',tidy_finance,if_exists='replace')"
   ]
  },
  {
   "cell_type": "code",
   "execution_count": 115,
   "metadata": {},
   "outputs": [],
   "source": [
    "factors_ff_daily.to_sql('factors_ff_daily',tidy_finance,if_exists='replace')"
   ]
  },
  {
   "cell_type": "code",
   "execution_count": 116,
   "metadata": {},
   "outputs": [],
   "source": [
    "industries_ff_monthly.to_sql('industries_ff_monthly',tidy_finance,if_exists='replace')\n",
    "\n",
    "factors_q_monthly.to_sql('factors_q_monthly',tidy_finance,if_exists='replace')\n",
    "\n",
    "macro_predictors.to_sql('macro_predictors',tidy_finance,if_exists='replace')\n",
    "\n",
    "cpi_monthly.to_sql('cpi_monthly',tidy_finance,if_exists='replace')"
   ]
  }
 ],
 "metadata": {
  "kernelspec": {
   "display_name": "Python 3.7.11 ('base')",
   "language": "python",
   "name": "python3"
  },
  "language_info": {
   "codemirror_mode": {
    "name": "ipython",
    "version": 3
   },
   "file_extension": ".py",
   "mimetype": "text/x-python",
   "name": "python",
   "nbconvert_exporter": "python",
   "pygments_lexer": "ipython3",
   "version": "3.7.11"
  },
  "orig_nbformat": 4,
  "vscode": {
   "interpreter": {
    "hash": "670636528462d7cb6f82d90df507c1e6f4b23efee7fba44815f39cb55d1b33a3"
   }
  }
 },
 "nbformat": 4,
 "nbformat_minor": 2
}
